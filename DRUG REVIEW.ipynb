{
 "cells": [
  {
   "cell_type": "code",
   "execution_count": 10,
   "metadata": {
    "_cell_guid": "b1076dfc-b9ad-4769-8c92-a6c4dae69d19",
    "_uuid": "8f2839f25d086af736a60e9eeb907d3b93b6e0e5"
   },
   "outputs": [],
   "source": [
    "# This Python 3 environment comes with many helpful analytics libraries installed\n",
    "# It is defined by the kaggle/python docker image: https://github.com/kaggle/docker-python\n",
    "# For example, here's several helpful packages to load in \n",
    "\n",
    "import numpy as np # linear algebra\n",
    "import pandas as pd # data processing, CSV file I/O (e.g. pd.read_csv)\n",
    "import matplotlib.pyplot as plt\n",
    "\n",
    "# Input data files are available in the \"../input/\" directory.\n",
    "# For example, running this (by clicking run or pressing Shift+Enter) will list the files in the input directory\n",
    "\n",
    "# Any results you write to the current directory are saved as output."
   ]
  },
  {
   "cell_type": "code",
   "execution_count": 11,
   "metadata": {
    "_cell_guid": "79c7e3d0-c299-4dcb-8224-4455121ee9b0",
    "_uuid": "d629ff2d2480ee46fbb7e2d37f6b5fab8052498a"
   },
   "outputs": [],
   "source": [
    "df = pd.read_csv('drugsComTrain_raw.csv')"
   ]
  },
  {
   "cell_type": "code",
   "execution_count": 12,
   "metadata": {
    "_uuid": "311c0a2fe59b15c7ed085f81baead6d7e9a3d51e"
   },
   "outputs": [
    {
     "data": {
      "text/html": [
       "<div>\n",
       "<style scoped>\n",
       "    .dataframe tbody tr th:only-of-type {\n",
       "        vertical-align: middle;\n",
       "    }\n",
       "\n",
       "    .dataframe tbody tr th {\n",
       "        vertical-align: top;\n",
       "    }\n",
       "\n",
       "    .dataframe thead th {\n",
       "        text-align: right;\n",
       "    }\n",
       "</style>\n",
       "<table border=\"1\" class=\"dataframe\">\n",
       "  <thead>\n",
       "    <tr style=\"text-align: right;\">\n",
       "      <th></th>\n",
       "      <th>uniqueID</th>\n",
       "      <th>drugName</th>\n",
       "      <th>condition</th>\n",
       "      <th>review</th>\n",
       "      <th>rating</th>\n",
       "      <th>date</th>\n",
       "      <th>usefulCount</th>\n",
       "    </tr>\n",
       "  </thead>\n",
       "  <tbody>\n",
       "    <tr>\n",
       "      <th>0</th>\n",
       "      <td>206461</td>\n",
       "      <td>Valsartan</td>\n",
       "      <td>Left Ventricular Dysfunction</td>\n",
       "      <td>\"It has no side effect, I take it in combinati...</td>\n",
       "      <td>9</td>\n",
       "      <td>20-May-12</td>\n",
       "      <td>27</td>\n",
       "    </tr>\n",
       "    <tr>\n",
       "      <th>1</th>\n",
       "      <td>95260</td>\n",
       "      <td>Guanfacine</td>\n",
       "      <td>ADHD</td>\n",
       "      <td>\"My son is halfway through his fourth week of ...</td>\n",
       "      <td>8</td>\n",
       "      <td>27-Apr-10</td>\n",
       "      <td>192</td>\n",
       "    </tr>\n",
       "    <tr>\n",
       "      <th>2</th>\n",
       "      <td>92703</td>\n",
       "      <td>Lybrel</td>\n",
       "      <td>Birth Control</td>\n",
       "      <td>\"I used to take another oral contraceptive, wh...</td>\n",
       "      <td>5</td>\n",
       "      <td>14-Dec-09</td>\n",
       "      <td>17</td>\n",
       "    </tr>\n",
       "    <tr>\n",
       "      <th>3</th>\n",
       "      <td>138000</td>\n",
       "      <td>Ortho Evra</td>\n",
       "      <td>Birth Control</td>\n",
       "      <td>\"This is my first time using any form of birth...</td>\n",
       "      <td>8</td>\n",
       "      <td>3-Nov-15</td>\n",
       "      <td>10</td>\n",
       "    </tr>\n",
       "    <tr>\n",
       "      <th>4</th>\n",
       "      <td>35696</td>\n",
       "      <td>Buprenorphine / naloxone</td>\n",
       "      <td>Opiate Dependence</td>\n",
       "      <td>\"Suboxone has completely turned my life around...</td>\n",
       "      <td>9</td>\n",
       "      <td>27-Nov-16</td>\n",
       "      <td>37</td>\n",
       "    </tr>\n",
       "  </tbody>\n",
       "</table>\n",
       "</div>"
      ],
      "text/plain": [
       "   uniqueID                  drugName                     condition  \\\n",
       "0    206461                 Valsartan  Left Ventricular Dysfunction   \n",
       "1     95260                Guanfacine                          ADHD   \n",
       "2     92703                    Lybrel                 Birth Control   \n",
       "3    138000                Ortho Evra                 Birth Control   \n",
       "4     35696  Buprenorphine / naloxone             Opiate Dependence   \n",
       "\n",
       "                                              review  rating       date  \\\n",
       "0  \"It has no side effect, I take it in combinati...       9  20-May-12   \n",
       "1  \"My son is halfway through his fourth week of ...       8  27-Apr-10   \n",
       "2  \"I used to take another oral contraceptive, wh...       5  14-Dec-09   \n",
       "3  \"This is my first time using any form of birth...       8   3-Nov-15   \n",
       "4  \"Suboxone has completely turned my life around...       9  27-Nov-16   \n",
       "\n",
       "   usefulCount  \n",
       "0           27  \n",
       "1          192  \n",
       "2           17  \n",
       "3           10  \n",
       "4           37  "
      ]
     },
     "execution_count": 12,
     "metadata": {},
     "output_type": "execute_result"
    }
   ],
   "source": [
    "df.head()"
   ]
  },
  {
   "cell_type": "code",
   "execution_count": 13,
   "metadata": {
    "_uuid": "bbfa1ef3057cd9bf56d4ede6a818928ca8af8369"
   },
   "outputs": [
    {
     "data": {
      "text/html": [
       "<div>\n",
       "<style scoped>\n",
       "    .dataframe tbody tr th:only-of-type {\n",
       "        vertical-align: middle;\n",
       "    }\n",
       "\n",
       "    .dataframe tbody tr th {\n",
       "        vertical-align: top;\n",
       "    }\n",
       "\n",
       "    .dataframe thead th {\n",
       "        text-align: right;\n",
       "    }\n",
       "</style>\n",
       "<table border=\"1\" class=\"dataframe\">\n",
       "  <thead>\n",
       "    <tr style=\"text-align: right;\">\n",
       "      <th></th>\n",
       "      <th>uniqueID</th>\n",
       "      <th>rating</th>\n",
       "      <th>usefulCount</th>\n",
       "    </tr>\n",
       "  </thead>\n",
       "  <tbody>\n",
       "    <tr>\n",
       "      <th>count</th>\n",
       "      <td>161297.000000</td>\n",
       "      <td>161297.000000</td>\n",
       "      <td>161297.000000</td>\n",
       "    </tr>\n",
       "    <tr>\n",
       "      <th>mean</th>\n",
       "      <td>115923.585305</td>\n",
       "      <td>6.994377</td>\n",
       "      <td>28.004755</td>\n",
       "    </tr>\n",
       "    <tr>\n",
       "      <th>std</th>\n",
       "      <td>67004.445170</td>\n",
       "      <td>3.272329</td>\n",
       "      <td>36.403742</td>\n",
       "    </tr>\n",
       "    <tr>\n",
       "      <th>min</th>\n",
       "      <td>2.000000</td>\n",
       "      <td>1.000000</td>\n",
       "      <td>0.000000</td>\n",
       "    </tr>\n",
       "    <tr>\n",
       "      <th>25%</th>\n",
       "      <td>58063.000000</td>\n",
       "      <td>5.000000</td>\n",
       "      <td>6.000000</td>\n",
       "    </tr>\n",
       "    <tr>\n",
       "      <th>50%</th>\n",
       "      <td>115744.000000</td>\n",
       "      <td>8.000000</td>\n",
       "      <td>16.000000</td>\n",
       "    </tr>\n",
       "    <tr>\n",
       "      <th>75%</th>\n",
       "      <td>173776.000000</td>\n",
       "      <td>10.000000</td>\n",
       "      <td>36.000000</td>\n",
       "    </tr>\n",
       "    <tr>\n",
       "      <th>max</th>\n",
       "      <td>232291.000000</td>\n",
       "      <td>10.000000</td>\n",
       "      <td>1291.000000</td>\n",
       "    </tr>\n",
       "  </tbody>\n",
       "</table>\n",
       "</div>"
      ],
      "text/plain": [
       "            uniqueID         rating    usefulCount\n",
       "count  161297.000000  161297.000000  161297.000000\n",
       "mean   115923.585305       6.994377      28.004755\n",
       "std     67004.445170       3.272329      36.403742\n",
       "min         2.000000       1.000000       0.000000\n",
       "25%     58063.000000       5.000000       6.000000\n",
       "50%    115744.000000       8.000000      16.000000\n",
       "75%    173776.000000      10.000000      36.000000\n",
       "max    232291.000000      10.000000    1291.000000"
      ]
     },
     "execution_count": 13,
     "metadata": {},
     "output_type": "execute_result"
    }
   ],
   "source": [
    "df.describe()"
   ]
  },
  {
   "cell_type": "code",
   "execution_count": 14,
   "metadata": {
    "_uuid": "986c60a84b218ecb579af4093132beefcdae6134"
   },
   "outputs": [
    {
     "ename": "NameError",
     "evalue": "name 'df2' is not defined",
     "output_type": "error",
     "traceback": [
      "\u001b[1;31m---------------------------------------------------------------------------\u001b[0m",
      "\u001b[1;31mNameError\u001b[0m                                 Traceback (most recent call last)",
      "\u001b[1;32m<ipython-input-14-77c0659fc2a8>\u001b[0m in \u001b[0;36m<module>\u001b[1;34m()\u001b[0m\n\u001b[1;32m----> 1\u001b[1;33m \u001b[0mdf2\u001b[0m\u001b[1;33m.\u001b[0m\u001b[0mdescribe\u001b[0m\u001b[1;33m(\u001b[0m\u001b[1;33m)\u001b[0m\u001b[1;33m\u001b[0m\u001b[0m\n\u001b[0m",
      "\u001b[1;31mNameError\u001b[0m: name 'df2' is not defined"
     ]
    }
   ],
   "source": [
    "df2.describe()"
   ]
  },
  {
   "cell_type": "code",
   "execution_count": 15,
   "metadata": {
    "_uuid": "c805140a591765741c1e16aabec5411d45c59e64"
   },
   "outputs": [
    {
     "ename": "NameError",
     "evalue": "name 'df2' is not defined",
     "output_type": "error",
     "traceback": [
      "\u001b[1;31m---------------------------------------------------------------------------\u001b[0m",
      "\u001b[1;31mNameError\u001b[0m                                 Traceback (most recent call last)",
      "\u001b[1;32m<ipython-input-15-68302b2f4bd0>\u001b[0m in \u001b[0;36m<module>\u001b[1;34m()\u001b[0m\n\u001b[1;32m----> 1\u001b[1;33m \u001b[0mdf2\u001b[0m\u001b[1;33m.\u001b[0m\u001b[0mhead\u001b[0m\u001b[1;33m(\u001b[0m\u001b[1;33m)\u001b[0m\u001b[1;33m\u001b[0m\u001b[0m\n\u001b[0m",
      "\u001b[1;31mNameError\u001b[0m: name 'df2' is not defined"
     ]
    }
   ],
   "source": [
    "df2.head()"
   ]
  },
  {
   "cell_type": "code",
   "execution_count": 16,
   "metadata": {
    "_uuid": "92d9e86b7de0aebf486a99b81d0cf3f8305b29ea"
   },
   "outputs": [
    {
     "data": {
      "text/plain": [
       "<matplotlib.axes._subplots.AxesSubplot at 0x8907240>"
      ]
     },
     "execution_count": 16,
     "metadata": {},
     "output_type": "execute_result"
    },
    {
     "data": {
      "image/png": "[encoded data removed]",
      "text/plain": [
       "<Figure size 432x288 with 1 Axes>"
      ]
     },
     "metadata": {},
     "output_type": "display_data"
    }
   ],
   "source": [
    "#find a correlation among the rating and useful count\n",
    "df.plot.scatter(x='rating',y='usefulCount')"
   ]
  },
  {
   "cell_type": "code",
   "execution_count": 17,
   "metadata": {
    "_uuid": "47034544053d61ea4cdc46c83e7c9ee62cec70ab"
   },
   "outputs": [
    {
     "data": {
      "text/html": [
       "<div>\n",
       "<style scoped>\n",
       "    .dataframe tbody tr th:only-of-type {\n",
       "        vertical-align: middle;\n",
       "    }\n",
       "\n",
       "    .dataframe tbody tr th {\n",
       "        vertical-align: top;\n",
       "    }\n",
       "\n",
       "    .dataframe thead th {\n",
       "        text-align: right;\n",
       "    }\n",
       "</style>\n",
       "<table border=\"1\" class=\"dataframe\">\n",
       "  <thead>\n",
       "    <tr style=\"text-align: right;\">\n",
       "      <th></th>\n",
       "      <th>uniqueID</th>\n",
       "      <th>drugName</th>\n",
       "      <th>condition</th>\n",
       "      <th>review</th>\n",
       "      <th>rating</th>\n",
       "      <th>date</th>\n",
       "      <th>usefulCount</th>\n",
       "    </tr>\n",
       "  </thead>\n",
       "  <tbody>\n",
       "    <tr>\n",
       "      <th>6716</th>\n",
       "      <td>96616</td>\n",
       "      <td>Sertraline</td>\n",
       "      <td>Depression</td>\n",
       "      <td>\"I remember reading people&amp;#039;s opinions, on...</td>\n",
       "      <td>10</td>\n",
       "      <td>31-Jul-08</td>\n",
       "      <td>1291</td>\n",
       "    </tr>\n",
       "    <tr>\n",
       "      <th>33552</th>\n",
       "      <td>119152</td>\n",
       "      <td>Zoloft</td>\n",
       "      <td>Depression</td>\n",
       "      <td>\"I remember reading people&amp;#039;s opinions, on...</td>\n",
       "      <td>10</td>\n",
       "      <td>31-Jul-08</td>\n",
       "      <td>1291</td>\n",
       "    </tr>\n",
       "    <tr>\n",
       "      <th>4249</th>\n",
       "      <td>182560</td>\n",
       "      <td>Mirena</td>\n",
       "      <td>Birth Control</td>\n",
       "      <td>\"I have had my IUD for over a year now and I t...</td>\n",
       "      <td>10</td>\n",
       "      <td>1-Apr-09</td>\n",
       "      <td>1247</td>\n",
       "    </tr>\n",
       "    <tr>\n",
       "      <th>21708</th>\n",
       "      <td>131116</td>\n",
       "      <td>Levonorgestrel</td>\n",
       "      <td>Birth Control</td>\n",
       "      <td>\"I have had my IUD for over a year now and I t...</td>\n",
       "      <td>10</td>\n",
       "      <td>1-Apr-09</td>\n",
       "      <td>1247</td>\n",
       "    </tr>\n",
       "    <tr>\n",
       "      <th>146145</th>\n",
       "      <td>119151</td>\n",
       "      <td>Zoloft</td>\n",
       "      <td>Depression</td>\n",
       "      <td>\"I&amp;#039;ve been on Zoloft 50mg for over two ye...</td>\n",
       "      <td>9</td>\n",
       "      <td>5-Aug-08</td>\n",
       "      <td>949</td>\n",
       "    </tr>\n",
       "    <tr>\n",
       "      <th>16889</th>\n",
       "      <td>52305</td>\n",
       "      <td>Adipex-P</td>\n",
       "      <td>Weight Loss</td>\n",
       "      <td>\"I have used this pill off and on for the past...</td>\n",
       "      <td>10</td>\n",
       "      <td>19-Oct-08</td>\n",
       "      <td>796</td>\n",
       "    </tr>\n",
       "    <tr>\n",
       "      <th>58608</th>\n",
       "      <td>139141</td>\n",
       "      <td>Phentermine</td>\n",
       "      <td>Weight Loss</td>\n",
       "      <td>\"I have used this pill off and on for the past...</td>\n",
       "      <td>10</td>\n",
       "      <td>19-Oct-08</td>\n",
       "      <td>796</td>\n",
       "    </tr>\n",
       "    <tr>\n",
       "      <th>2039</th>\n",
       "      <td>62757</td>\n",
       "      <td>Citalopram</td>\n",
       "      <td>Depression</td>\n",
       "      <td>\"I responded after one week. The side effects ...</td>\n",
       "      <td>8</td>\n",
       "      <td>25-Mar-08</td>\n",
       "      <td>771</td>\n",
       "    </tr>\n",
       "    <tr>\n",
       "      <th>152838</th>\n",
       "      <td>89825</td>\n",
       "      <td>Celexa</td>\n",
       "      <td>Depression</td>\n",
       "      <td>\"I responded after one week. The side effects ...</td>\n",
       "      <td>8</td>\n",
       "      <td>25-Mar-08</td>\n",
       "      <td>771</td>\n",
       "    </tr>\n",
       "    <tr>\n",
       "      <th>5218</th>\n",
       "      <td>107655</td>\n",
       "      <td>Implanon</td>\n",
       "      <td>Birth Control</td>\n",
       "      <td>\"I was very nervous about trying Implanon afte...</td>\n",
       "      <td>10</td>\n",
       "      <td>19-Jul-10</td>\n",
       "      <td>730</td>\n",
       "    </tr>\n",
       "    <tr>\n",
       "      <th>5595</th>\n",
       "      <td>126311</td>\n",
       "      <td>Viibryd</td>\n",
       "      <td>Depression</td>\n",
       "      <td>\"I have had a lot of additional stress added i...</td>\n",
       "      <td>10</td>\n",
       "      <td>7-Sep-11</td>\n",
       "      <td>693</td>\n",
       "    </tr>\n",
       "    <tr>\n",
       "      <th>5839</th>\n",
       "      <td>62688</td>\n",
       "      <td>Citalopram</td>\n",
       "      <td>Anxiety and Stress</td>\n",
       "      <td>\"I work for a large Fire Department.  I was ha...</td>\n",
       "      <td>8</td>\n",
       "      <td>31-Aug-09</td>\n",
       "      <td>693</td>\n",
       "    </tr>\n",
       "    <tr>\n",
       "      <th>90071</th>\n",
       "      <td>169147</td>\n",
       "      <td>Vilazodone</td>\n",
       "      <td>Depression</td>\n",
       "      <td>\"I have had a lot of additional stress added i...</td>\n",
       "      <td>10</td>\n",
       "      <td>7-Sep-11</td>\n",
       "      <td>693</td>\n",
       "    </tr>\n",
       "    <tr>\n",
       "      <th>142329</th>\n",
       "      <td>89748</td>\n",
       "      <td>Celexa</td>\n",
       "      <td>Anxiety and Stress</td>\n",
       "      <td>\"I work for a large Fire Department.  I was ha...</td>\n",
       "      <td>8</td>\n",
       "      <td>31-Aug-09</td>\n",
       "      <td>693</td>\n",
       "    </tr>\n",
       "    <tr>\n",
       "      <th>66536</th>\n",
       "      <td>119081</td>\n",
       "      <td>Zoloft</td>\n",
       "      <td>Depression</td>\n",
       "      <td>\"I am 55 years old and have been taking Zoloft...</td>\n",
       "      <td>10</td>\n",
       "      <td>18-Jan-09</td>\n",
       "      <td>680</td>\n",
       "    </tr>\n",
       "  </tbody>\n",
       "</table>\n",
       "</div>"
      ],
      "text/plain": [
       "        uniqueID        drugName           condition  \\\n",
       "6716       96616      Sertraline          Depression   \n",
       "33552     119152          Zoloft          Depression   \n",
       "4249      182560          Mirena       Birth Control   \n",
       "21708     131116  Levonorgestrel       Birth Control   \n",
       "146145    119151          Zoloft          Depression   \n",
       "16889      52305        Adipex-P         Weight Loss   \n",
       "58608     139141     Phentermine         Weight Loss   \n",
       "2039       62757      Citalopram          Depression   \n",
       "152838     89825          Celexa          Depression   \n",
       "5218      107655        Implanon       Birth Control   \n",
       "5595      126311         Viibryd          Depression   \n",
       "5839       62688      Citalopram  Anxiety and Stress   \n",
       "90071     169147      Vilazodone          Depression   \n",
       "142329     89748          Celexa  Anxiety and Stress   \n",
       "66536     119081          Zoloft          Depression   \n",
       "\n",
       "                                                   review  rating       date  \\\n",
       "6716    \"I remember reading people&#039;s opinions, on...      10  31-Jul-08   \n",
       "33552   \"I remember reading people&#039;s opinions, on...      10  31-Jul-08   \n",
       "4249    \"I have had my IUD for over a year now and I t...      10   1-Apr-09   \n",
       "21708   \"I have had my IUD for over a year now and I t...      10   1-Apr-09   \n",
       "146145  \"I&#039;ve been on Zoloft 50mg for over two ye...       9   5-Aug-08   \n",
       "16889   \"I have used this pill off and on for the past...      10  19-Oct-08   \n",
       "58608   \"I have used this pill off and on for the past...      10  19-Oct-08   \n",
       "2039    \"I responded after one week. The side effects ...       8  25-Mar-08   \n",
       "152838  \"I responded after one week. The side effects ...       8  25-Mar-08   \n",
       "5218    \"I was very nervous about trying Implanon afte...      10  19-Jul-10   \n",
       "5595    \"I have had a lot of additional stress added i...      10   7-Sep-11   \n",
       "5839    \"I work for a large Fire Department.  I was ha...       8  31-Aug-09   \n",
       "90071   \"I have had a lot of additional stress added i...      10   7-Sep-11   \n",
       "142329  \"I work for a large Fire Department.  I was ha...       8  31-Aug-09   \n",
       "66536   \"I am 55 years old and have been taking Zoloft...      10  18-Jan-09   \n",
       "\n",
       "        usefulCount  \n",
       "6716           1291  \n",
       "33552          1291  \n",
       "4249           1247  \n",
       "21708          1247  \n",
       "146145          949  \n",
       "16889           796  \n",
       "58608           796  \n",
       "2039            771  \n",
       "152838          771  \n",
       "5218            730  \n",
       "5595            693  \n",
       "5839            693  \n",
       "90071           693  \n",
       "142329          693  \n",
       "66536           680  "
      ]
     },
     "execution_count": 17,
     "metadata": {},
     "output_type": "execute_result"
    }
   ],
   "source": [
    "#get the top 15 reviews in the list based on usefulness count\n",
    "df.nlargest(15,'usefulCount')"
   ]
  },
  {
   "cell_type": "code",
   "execution_count": 18,
   "metadata": {
    "_uuid": "20c6e247572e1b1766f9b4e740f775e3992f023f"
   },
   "outputs": [
    {
     "data": {
      "text/plain": [
       "Levonorgestrel                        3657\n",
       "Etonogestrel                          3336\n",
       "Ethinyl estradiol / norethindrone     2850\n",
       "Nexplanon                             2156\n",
       "Ethinyl estradiol / norgestimate      2117\n",
       "Ethinyl estradiol / levonorgestrel    1888\n",
       "Phentermine                           1543\n",
       "Sertraline                            1360\n",
       "Escitalopram                          1292\n",
       "Mirena                                1242\n",
       "Implanon                              1102\n",
       "Gabapentin                            1047\n",
       "Bupropion                             1022\n",
       "Venlafaxine                           1016\n",
       "Miconazole                            1000\n",
       "Citalopram                             995\n",
       "Medroxyprogesterone                    995\n",
       "Lexapro                                952\n",
       "Bupropion / naltrexone                 950\n",
       "Duloxetine                             934\n",
       "Metronidazole                          922\n",
       "Contrave                               920\n",
       "Drospirenone / ethinyl estradiol       890\n",
       "Depo-Provera                           882\n",
       "Cymbalta                               864\n",
       "Clonazepam                             831\n",
       "Quetiapine                             831\n",
       "Skyla                                  824\n",
       "Tramadol                               820\n",
       "Zoloft                                 805\n",
       "                                      ... \n",
       "Omnipaque 350                            1\n",
       "BP Wash                                  1\n",
       "Adempas                                  1\n",
       "Questran Light                           1\n",
       "Zymine                                   1\n",
       "Smoothie Readi-Cat 2                     1\n",
       "Pin-X                                    1\n",
       "Luxiq                                    1\n",
       "Sulfur                                   1\n",
       "Lincocin                                 1\n",
       "Regorafenib                              1\n",
       "Nicotrol NS                              1\n",
       "Regimex                                  1\n",
       "Diphenidol                               1\n",
       "Benzoyl peroxide / hydrocortisone        1\n",
       "Rea Lo 40                                1\n",
       "Tri-Lo-Estarylla                         1\n",
       "Alocril                                  1\n",
       "Lagesic                                  1\n",
       "Romidepsin                               1\n",
       "Riociguat                                1\n",
       "Ferrous fumarate                         1\n",
       "Visine Original                          1\n",
       "Pilocarpine                              1\n",
       "Dornase alfa                             1\n",
       "Advil Migraine                           1\n",
       "Constulose                               1\n",
       "Belladonna                               1\n",
       "Cefotaxime                               1\n",
       "Phrenilin                                1\n",
       "Name: drugName, Length: 3436, dtype: int64"
      ]
     },
     "execution_count": 18,
     "metadata": {},
     "output_type": "execute_result"
    }
   ],
   "source": [
    "#see the most used drugs to treat conditions\n",
    "df['drugName'].value_counts()"
   ]
  },
  {
   "cell_type": "code",
   "execution_count": 19,
   "metadata": {
    "_uuid": "db5ccf04cc9cf2dc14dad1ea0d0cf74d6e6c0c6b"
   },
   "outputs": [
    {
     "name": "stdout",
     "output_type": "stream",
     "text": [
      "<class 'pandas.core.series.Series'>\n"
     ]
    }
   ],
   "source": [
    "#find the most common conditions that are treated\n",
    "commonCdf = df['condition'].value_counts().nlargest(15)\n",
    "print(type(commonCdf))"
   ]
  },
  {
   "cell_type": "code",
   "execution_count": 20,
   "metadata": {
    "_uuid": "ea351ad993faa845521e842aa75f7f2ef9aaa165"
   },
   "outputs": [
    {
     "data": {
      "text/plain": [
       "Birth Control                28788\n",
       "Depression                    9069\n",
       "Pain                          6145\n",
       "Anxiety                       5904\n",
       "Acne                          5588\n",
       "Bipolar Disorde               4224\n",
       "Insomnia                      3673\n",
       "Weight Loss                   3609\n",
       "Obesity                       3568\n",
       "ADHD                          3383\n",
       "Diabetes, Type 2              2554\n",
       "Emergency Contraception       2463\n",
       "High Blood Pressure           2321\n",
       "Vaginal Yeast Infection       2274\n",
       "Abnormal Uterine Bleeding     2096\n",
       "Name: condition, dtype: int64"
      ]
     },
     "execution_count": 20,
     "metadata": {},
     "output_type": "execute_result"
    }
   ],
   "source": [
    "commonCdf"
   ]
  },
  {
   "cell_type": "code",
   "execution_count": 21,
   "metadata": {
    "_uuid": "bc5bbb42df38f946dde8eb5de1576b523384448f"
   },
   "outputs": [
    {
     "ename": "NameError",
     "evalue": "name 'df2' is not defined",
     "output_type": "error",
     "traceback": [
      "\u001b[1;31m---------------------------------------------------------------------------\u001b[0m",
      "\u001b[1;31mNameError\u001b[0m                                 Traceback (most recent call last)",
      "\u001b[1;32m<ipython-input-21-339fb2341450>\u001b[0m in \u001b[0;36m<module>\u001b[1;34m()\u001b[0m\n\u001b[0;32m      1\u001b[0m \u001b[1;31m#checking out the test data\u001b[0m\u001b[1;33m\u001b[0m\u001b[1;33m\u001b[0m\u001b[0m\n\u001b[1;32m----> 2\u001b[1;33m \u001b[0mcommonCdf2\u001b[0m \u001b[1;33m=\u001b[0m \u001b[0mdf2\u001b[0m\u001b[1;33m[\u001b[0m\u001b[1;34m'condition'\u001b[0m\u001b[1;33m]\u001b[0m\u001b[1;33m.\u001b[0m\u001b[0mvalue_counts\u001b[0m\u001b[1;33m(\u001b[0m\u001b[1;33m)\u001b[0m\u001b[1;33m.\u001b[0m\u001b[0mnlargest\u001b[0m\u001b[1;33m(\u001b[0m\u001b[1;36m15\u001b[0m\u001b[1;33m)\u001b[0m\u001b[1;33m\u001b[0m\u001b[0m\n\u001b[0m\u001b[0;32m      3\u001b[0m \u001b[0mcommonConditions\u001b[0m \u001b[1;33m=\u001b[0m \u001b[0mpd\u001b[0m\u001b[1;33m.\u001b[0m\u001b[0mDataFrame\u001b[0m\u001b[1;33m(\u001b[0m\u001b[0mcommonCdf2\u001b[0m\u001b[1;33m)\u001b[0m\u001b[1;33m\u001b[0m\u001b[0m\n\u001b[0;32m      4\u001b[0m \u001b[0mcommonConditions\u001b[0m\u001b[1;33m\u001b[0m\u001b[0m\n",
      "\u001b[1;31mNameError\u001b[0m: name 'df2' is not defined"
     ]
    }
   ],
   "source": [
    "#checking out the test data\n",
    "commonCdf2 = df2['condition'].value_counts().nlargest(15)\n",
    "commonConditions = pd.DataFrame(commonCdf2)\n",
    "commonConditions"
   ]
  },
  {
   "cell_type": "code",
   "execution_count": 22,
   "metadata": {
    "_uuid": "b1c5397404f83a49c0abb0cb56fac37f74f67d50"
   },
   "outputs": [],
   "source": [
    "#establish a dataframe to focus on birth control\n",
    "BirthControlDf = df[['condition','rating','drugName']]"
   ]
  },
  {
   "cell_type": "code",
   "execution_count": 23,
   "metadata": {
    "_uuid": "129b1d6742038539ab00301c3bc3944d2eaa7a6a"
   },
   "outputs": [],
   "source": [
    "#locate each instance of birth control use in our dataframe\n",
    "BirthControlDf=BirthControlDf.loc[BirthControlDf['condition'] == 'Birth Control']"
   ]
  },
  {
   "cell_type": "code",
   "execution_count": 24,
   "metadata": {
    "_uuid": "1c937ad1176281b4a78504ccdd8fa0904ccd74a1"
   },
   "outputs": [
    {
     "data": {
      "text/plain": [
       "Etonogestrel                          3314\n",
       "Ethinyl estradiol / norethindrone     2337\n",
       "Nexplanon                             2149\n",
       "Levonorgestrel                        2129\n",
       "Ethinyl estradiol / levonorgestrel    1600\n",
       "Ethinyl estradiol / norgestimate      1580\n",
       "Implanon                              1095\n",
       "Mirena                                 965\n",
       "Skyla                                  822\n",
       "Lo Loestrin Fe                         667\n",
       "Ethinyl estradiol / etonogestrel       631\n",
       "NuvaRing                               620\n",
       "Copper                                 607\n",
       "Drospirenone / ethinyl estradiol       522\n",
       "Medroxyprogesterone                    502\n",
       "Name: drugName, dtype: int64"
      ]
     },
     "execution_count": 24,
     "metadata": {},
     "output_type": "execute_result"
    }
   ],
   "source": [
    "#get the number of times each drug was used for birth control\n",
    "BirthControlDf['drugName'].value_counts().nlargest(15)"
   ]
  },
  {
   "cell_type": "code",
   "execution_count": 25,
   "metadata": {
    "_uuid": "7443a37bcb66513d01f341396346a4fb026504b0"
   },
   "outputs": [
    {
     "data": {
      "text/plain": [
       "5.808992154496077"
      ]
     },
     "execution_count": 25,
     "metadata": {},
     "output_type": "execute_result"
    }
   ],
   "source": [
    "#dataframe to show the average satifcation of using Etonogestrel for birth control(top choice of drug)\n",
    "EtonogestrelBCDf = BirthControlDf.loc[BirthControlDf['drugName']=='Etonogestrel']\n",
    "EtonogestrelBCDf['rating'].mean()"
   ]
  },
  {
   "cell_type": "code",
   "execution_count": 26,
   "metadata": {
    "_uuid": "127a07c3529a2d20a95cf271f44b18a2da4cd60e"
   },
   "outputs": [
    {
     "data": {
      "text/plain": [
       "Levonorgestrel                        3657\n",
       "Etonogestrel                          3336\n",
       "Ethinyl estradiol / norethindrone     2850\n",
       "Nexplanon                             2156\n",
       "Ethinyl estradiol / norgestimate      2117\n",
       "Ethinyl estradiol / levonorgestrel    1888\n",
       "Phentermine                           1543\n",
       "Sertraline                            1360\n",
       "Escitalopram                          1292\n",
       "Mirena                                1242\n",
       "Implanon                              1102\n",
       "Gabapentin                            1047\n",
       "Bupropion                             1022\n",
       "Venlafaxine                           1016\n",
       "Miconazole                            1000\n",
       "Name: drugName, dtype: int64"
      ]
     },
     "execution_count": 26,
     "metadata": {},
     "output_type": "execute_result"
    }
   ],
   "source": [
    "#find the top occurences of the drugs\n",
    "df['drugName'].value_counts().nlargest(15)"
   ]
  },
  {
   "cell_type": "code",
   "execution_count": 27,
   "metadata": {
    "_uuid": "acfcdc05d1f57ea2728ebc2a8d100e228c8dbb1f"
   },
   "outputs": [
    {
     "name": "stdout",
     "output_type": "stream",
     "text": [
      "Etonogestrel                          3314\n",
      "Ethinyl estradiol / norethindrone     2337\n",
      "Nexplanon                             2149\n",
      "Levonorgestrel                        2129\n",
      "Ethinyl estradiol / levonorgestrel    1600\n",
      "Ethinyl estradiol / norgestimate      1580\n",
      "Implanon                              1095\n",
      "Mirena                                 965\n",
      "Skyla                                  822\n",
      "Lo Loestrin Fe                         667\n",
      "Ethinyl estradiol / etonogestrel       631\n",
      "NuvaRing                               620\n",
      "Copper                                 607\n",
      "Drospirenone / ethinyl estradiol       522\n",
      "Medroxyprogesterone                    502\n",
      "Name: drugName, dtype: int64\n"
     ]
    }
   ],
   "source": [
    "def conditionFunc(condition,df):\n",
    "    if(type(condition) != str):\n",
    "        raise ValueError(\"The input should be a string\")\n",
    "    conditionDF = df[['condition','rating','drugName']]\n",
    "    conditionDF=conditionDF.loc[conditionDF['condition'] == condition]\n",
    "    print(conditionDF['drugName'].value_counts().nlargest(15))\n",
    "    \n",
    "conditionFunc('Birth Control')"
   ]
  },
  {
   "cell_type": "code",
   "execution_count": null,
   "metadata": {},
   "outputs": [],
   "source": []
  },
  {
   "cell_type": "code",
   "execution_count": null,
   "metadata": {},
   "outputs": [],
   "source": []
  }
 ],
 "metadata": {
  "kernelspec": {
   "display_name": "Python 3",
   "language": "python",
   "name": "python3"
  },
  "language_info": {
   "codemirror_mode": {
    "name": "ipython",
    "version": 3
   },
   "file_extension": ".py",
   "mimetype": "text/x-python",
   "name": "python",
   "nbconvert_exporter": "python",
   "pygments_lexer": "ipython3",
   "version": "3.6.5"
  }
 },
 "nbformat": 4,
 "nbformat_minor": 1
}
